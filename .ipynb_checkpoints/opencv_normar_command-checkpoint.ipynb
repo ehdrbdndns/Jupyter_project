{
 "cells": [
  {
   "cell_type": "code",
   "execution_count": null,
   "metadata": {},
   "outputs": [],
   "source": [
    "import cv2\n",
    "import numpy as np\n",
    "from matplotlib import pyplot as plt\n",
    "\n",
    "#흑백\n",
    "image = cv2.imread(\"image/Person/test2.jpg\", cv2.IMREAD_GRAYSCALE)\n",
    "plt.imshow(image, cmap=\"gray\"), plt.axis(\"off\") # 축제거\n",
    "plt.show()\n",
    "\n",
    "#print(image)\n",
    "print(image.shape)\n",
    "\n",
    "#컬러\n",
    "image_bgr = cv2.imread(\"image/Person/test2.jpg\", cv2.IMREAD_COLOR)\n",
    "image_rgb = cv2.cvtColor(image_bgr, cv2.COLOR_BGR2RGB) #opencv는 기본적으로 bgr을 사용하기에 rgb로 바꿔야함.\n",
    "plt.imshow(image_rgb), plt.axis(\"off\") # 축제거\n",
    "plt.show(..)\n",
    "\n",
    "#이미지저장   !!주의 동일 이름이 있을 시에 파일을 덮어버림\n",
    "#path = \"image/Person/\"\n",
    "#name = input(\"파일 이름 입력: \")\n",
    "#extention = input(\"확장자 입력\")\n",
    "#cv2.imwrite(path + name + \".\" + extention, image)\n",
    "\n",
    "#사이즈 재조정\n",
    "image_2 = cv2.imread(\"image/Person/test3.jpg\", cv2.IMREAD_GRAYSCALE)\n",
    "image_50x50 = cv2.resize(image_2, (50,50))\n",
    "plt.imshow(image_50x50, cmap=\"gray\"), plt.axis(\"off\")\n",
    "plt.show()"
   ]
  },
  {
   "cell_type": "code",
   "execution_count": null,
   "metadata": {},
   "outputs": [],
   "source": []
  }
 ],
 "metadata": {
  "kernelspec": {
   "display_name": "Python 3",
   "language": "python",
   "name": "python3"
  },
  "language_info": {
   "codemirror_mode": {
    "name": "ipython",
    "version": 3
   },
   "file_extension": ".py",
   "mimetype": "text/x-python",
   "name": "python",
   "nbconvert_exporter": "python",
   "pygments_lexer": "ipython3",
   "version": "3.7.6"
  }
 },
 "nbformat": 4,
 "nbformat_minor": 4
}
